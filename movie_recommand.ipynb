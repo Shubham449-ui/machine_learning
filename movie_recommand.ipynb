{
  "nbformat": 4,
  "nbformat_minor": 0,
  "metadata": {
    "colab": {
      "provenance": [],
      "gpuType": "T4"
    },
    "kernelspec": {
      "name": "python3",
      "display_name": "Python 3"
    },
    "language_info": {
      "name": "python"
    },
    "accelerator": "GPU"
  },
  "cells": [
    {
      "cell_type": "code",
      "source": [
        "from google.colab import drive\n",
        "drive.mount('/content/drive')"
      ],
      "metadata": {
        "colab": {
          "base_uri": "https://localhost:8080/"
        },
        "id": "HcnHB4Z7odzY",
        "outputId": "34aee6e9-1a90-47e7-f7bb-45d4b31f8a04"
      },
      "execution_count": 2,
      "outputs": [
        {
          "output_type": "stream",
          "name": "stdout",
          "text": [
            "Mounted at /content/drive\n"
          ]
        }
      ]
    },
    {
      "cell_type": "code",
      "source": [
        "import os\n",
        "dataset_path = '/content/drive/MyDrive/moviextract'\n",
        "print(os.listdir(dataset_path))  # List files in the folder"
      ],
      "metadata": {
        "colab": {
          "base_uri": "https://localhost:8080/"
        },
        "id": "hcNFpHiJshE6",
        "outputId": "3a5469d4-c177-488d-8098-8f9a42c526ef"
      },
      "execution_count": 1,
      "outputs": [
        {
          "output_type": "stream",
          "name": "stdout",
          "text": [
            "['credits.csv', 'links.csv', 'keywords.csv', 'movies_metadata.csv', 'links_small.csv', 'ratings_small.csv', 'ratings.csv', '.ipynb_checkpoints']\n"
          ]
        }
      ]
    },
    {
      "cell_type": "code",
      "source": [
        "import pandas as pd\n",
        "import numpy as np\n",
        "from sklearn.feature_extraction.text import TfidfVectorizer\n",
        "from sklearn.metrics.pairwise import linear_kernel"
      ],
      "metadata": {
        "id": "dRSTcJzLszIR"
      },
      "execution_count": 8,
      "outputs": []
    },
    {
      "cell_type": "code",
      "source": [
        "#### Dataset upload ####\n",
        "movie = pd.read_csv(dataset_path + '/movies_metadata.csv')"
      ],
      "metadata": {
        "colab": {
          "base_uri": "https://localhost:8080/"
        },
        "id": "c2t-VHTquNAh",
        "outputId": "65137250-66af-40cb-f8aa-996145546c36"
      },
      "execution_count": 9,
      "outputs": [
        {
          "output_type": "stream",
          "name": "stderr",
          "text": [
            "<ipython-input-9-b266747e9bf6>:2: DtypeWarning: Columns (10) have mixed types. Specify dtype option on import or set low_memory=False.\n",
            "  movie = pd.read_csv(dataset_path + '/movies_metadata.csv')\n"
          ]
        }
      ]
    },
    {
      "cell_type": "code",
      "source": [
        "column_names = movie.columns.tolist() # makes the columns into a python list.\n",
        "\n",
        "# Print the column names\n",
        "print(column_names)"
      ],
      "metadata": {
        "colab": {
          "base_uri": "https://localhost:8080/"
        },
        "id": "FGqfuSeYuM2J",
        "outputId": "d5f1288d-7d4c-4a62-ef73-48f0a4386a97"
      },
      "execution_count": 4,
      "outputs": [
        {
          "output_type": "stream",
          "name": "stdout",
          "text": [
            "['adult', 'belongs_to_collection', 'budget', 'genres', 'homepage', 'id', 'imdb_id', 'original_language', 'original_title', 'overview', 'popularity', 'poster_path', 'production_companies', 'production_countries', 'release_date', 'revenue', 'runtime', 'spoken_languages', 'status', 'tagline', 'title', 'video', 'vote_average', 'vote_count']\n"
          ]
        }
      ]
    },
    {
      "cell_type": "code",
      "source": [
        "movie = movie[['title','overview']].dropna()"
      ],
      "metadata": {
        "id": "-rT-g3Q5vN_8"
      },
      "execution_count": 10,
      "outputs": []
    },
    {
      "cell_type": "code",
      "source": [
        "movies_sample = movie.head(20000)  # Take only first 20,000 movies\n",
        "tfidf = TfidfVectorizer(stop_words='english')\n",
        "tfidf_matrix = tfidf.fit_transform(movies_sample['overview'])  # Apply TF-IDF on a smaller dataset\n",
        "cosine_sim = linear_kernel(tfidf_matrix, tfidf_matrix)  # Compute similarity"
      ],
      "metadata": {
        "id": "plYIADwlxLMl"
      },
      "execution_count": 14,
      "outputs": []
    },
    {
      "cell_type": "code",
      "source": [
        "row_count = len(movie)\n",
        "print(\"The number of of rows :: \",row_count)"
      ],
      "metadata": {
        "colab": {
          "base_uri": "https://localhost:8080/"
        },
        "id": "CrnCiPXc2ffP",
        "outputId": "e7080888-4e58-4b81-cb12-d5a24dcb7c03"
      },
      "execution_count": 15,
      "outputs": [
        {
          "output_type": "stream",
          "name": "stdout",
          "text": [
            "The number of of rows ::  44506\n"
          ]
        }
      ]
    },
    {
      "cell_type": "code",
      "source": [
        "from sklearn.metrics.pairwise import linear_kernel\n",
        "\n",
        "def recommend_movies(title, movies_sample, cosine_sim):\n",
        "    # Get the index of the movie in movies_sample\n",
        "    idx = movies_sample[movies_sample['title'] == title].index\n",
        "\n",
        "    if len(idx) == 0:\n",
        "        return \"Movie not found in dataset\"\n",
        "\n",
        "    idx = idx[0]\n",
        "\n",
        "    # Compute similarity scores\n",
        "    sim_scores = list(enumerate(cosine_sim[idx]))\n",
        "\n",
        "    # Sort movies by similarity score (highest first)\n",
        "    sim_scores = sorted(sim_scores, key=lambda x: x[1], reverse=True)[1:11]  # Top 10 recommendations\n",
        "\n",
        "    # Get the indices of the recommended movies\n",
        "    movie_indices = [i[0] for i in sim_scores]\n",
        "\n",
        "    # Return movie titles\n",
        "    return movies_sample.iloc[movie_indices]['title'].tolist()\n",
        "\n",
        "# Example usage\n",
        "print(recommend_movies(\"The Dark Knight\", movies_sample, cosine_sim))\n"
      ],
      "metadata": {
        "colab": {
          "base_uri": "https://localhost:8080/"
        },
        "id": "GXe3OfLV5vge",
        "outputId": "ad7df615-5d84-41b5-f47e-1f824c0d60f8"
      },
      "execution_count": 16,
      "outputs": [
        {
          "output_type": "stream",
          "name": "stdout",
          "text": [
            "['Foreign Student', \"Everybody's All-American\", 'Semi-Tough', 'The Express', 'North Dallas Forty', 'Invincible', 'Johnny Be Good', 'All the Right Moves', 'Too Many Girls', 'Side Out']\n"
          ]
        }
      ]
    },
    {
      "cell_type": "code",
      "source": [
        "movie_samples = movie.head(20000)\n",
        "\n",
        "test_movies = movie_samples['title'].sample(2,random_state = 42).tolist()\n",
        "\n",
        "print(test_movies)"
      ],
      "metadata": {
        "colab": {
          "base_uri": "https://localhost:8080/"
        },
        "id": "3NQw3-UnMUfy",
        "outputId": "9fb85355-0eb5-4c60-9d75-5b51878b4dea"
      },
      "execution_count": 25,
      "outputs": [
        {
          "output_type": "stream",
          "name": "stdout",
          "text": [
            "['The Master of Ballantrae', 'Return to Paradise']\n"
          ]
        }
      ]
    },
    {
      "cell_type": "code",
      "source": [
        "recommend_movie = {}\n",
        "for movies in test_movies:\n",
        "  recommend_movie[movies] = recommend_movies(movies, movie_samples, cosine_sim)\n",
        "\n",
        "print(\"The prediction based on overview \",recommend_movie)"
      ],
      "metadata": {
        "colab": {
          "base_uri": "https://localhost:8080/"
        },
        "id": "ZbtoFSdyNdB8",
        "outputId": "b78ef9ba-dd9a-40d5-fcbf-d129c9629be9"
      },
      "execution_count": 27,
      "outputs": [
        {
          "output_type": "stream",
          "name": "stdout",
          "text": [
            "{'The Master of Ballantrae': ['Thieves', 'Win/Win', \"Maria's Lovers\", 'ivans xtc.', 'The Swan Princess', 'Ivan the Terrible, Part I', 'Deathstalker II', 'My Friend Ivan Lapshin', 'Yeelen', 'My Little Business'], 'Return to Paradise': ['Postman Blues', 'Macao', 'Kiler', 'The Man with One Red Shoe', \"I Just Didn't Do It\", 'Nigdy w życiu!', 'The Pilgrim', 'He Ran All The Way', 'The Young Master', 'Chopper']}\n"
          ]
        }
      ]
    }
  ]
}